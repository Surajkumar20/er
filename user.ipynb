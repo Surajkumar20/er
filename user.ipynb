{
 "cells": [
  {
   "cell_type": "code",
   "execution_count": 1,
   "metadata": {},
   "outputs": [],
   "source": [
    "import storage as st\n",
    "import numpy as np\n",
    "\n",
    "code = st.codeObject(\"codenoe1.txt\")"
   ]
  }
 ],
 "metadata": {
  "kernelspec": {
   "display_name": "Python 3",
   "language": "python",
   "name": "python3"
  },
  "language_info": {
   "codemirror_mode": {
    "name": "ipython",
    "version": 3
   },
   "file_extension": ".py",
   "mimetype": "text/x-python",
   "name": "python",
   "nbconvert_exporter": "python",
   "pygments_lexer": "ipython3",
   "version": "3.10.5"
  },
  "orig_nbformat": 4,
  "vscode": {
   "interpreter": {
    "hash": "23e9127ce044f14769a28b50a0bf93807f4cf60b78b82fbd0152a3dd6140da82"
   }
  }
 },
 "nbformat": 4,
 "nbformat_minor": 2
}
